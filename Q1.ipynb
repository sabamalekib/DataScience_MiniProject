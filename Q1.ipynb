{
 "cells": [
  {
   "cell_type": "code",
   "execution_count": 2,
   "metadata": {},
   "outputs": [],
   "source": [
    "import numpy as np"
   ]
  },
  {
   "cell_type": "code",
   "execution_count": 124,
   "metadata": {},
   "outputs": [],
   "source": [
    "def mean_std(N,M):\n",
    "    result = []\n",
    "    for item in range(100000):\n",
    "        point=0\n",
    "        sample_cards = np.concatenate([np.ones(int(N/M))*m for m in range(1,M+1)])      \n",
    "        np.random.shuffle(sample_cards)\n",
    "        for i, j in enumerate(sample_cards[:-1]):\n",
    "            if j  == sample_cards[i+1]:\n",
    "                point=point+1\n",
    "        result.append(point)       \n",
    "    return np.mean(result), np.std(result)"
   ]
  },
  {
   "cell_type": "code",
   "execution_count": 3,
   "metadata": {},
   "outputs": [],
   "source": [
    "def conditional_prob(N,M,lowP,highP):\n",
    "    first_p = 0\n",
    "    second_p = 0\n",
    "    item = 0\n",
    "    while(item<100000):\n",
    "        point=0\n",
    "        sample_cards = np.concatenate([np.ones(int(N/M))*m for m in range(1,M+1)])      \n",
    "        np.random.shuffle(sample_cards)\n",
    "        for i, j in enumerate(sample_cards[:-1]):\n",
    "            if j  == sample_cards[i+1]:\n",
    "                point=point+1\n",
    "        if point > lowP:\n",
    "            first_p +=1 \n",
    "            item += 1\n",
    "        if point > highP:\n",
    "            second_p += 1\n",
    "    return second_p/first_p"
   ]
  },
  {
   "cell_type": "code",
   "execution_count": 125,
   "metadata": {},
   "outputs": [
    {
     "name": "stdout",
     "output_type": "stream",
     "text": [
      "Mean:  11.9945 STD:  2.489684668788399\n"
     ]
    }
   ],
   "source": [
    "final_result = mean_std(N=26,M=2)\n",
    "print(\"Mean: \", str(final_result[0]),\"STD: \", str(final_result[1]))"
   ]
  },
  {
   "cell_type": "code",
   "execution_count": 149,
   "metadata": {},
   "outputs": [
    {
     "name": "stdout",
     "output_type": "stream",
     "text": [
      "Mean:  12.0007 STD:  3.0286101614436944\n"
     ]
    }
   ],
   "source": [
    "final_result = mean_std(N=52,M=4)\n",
    "print(\"Mean: \", str(final_result[0]),\"STD: \", str(final_result[1]))"
   ]
  },
  {
   "cell_type": "code",
   "execution_count": 180,
   "metadata": {},
   "outputs": [
    {
     "name": "stdout",
     "output_type": "stream",
     "text": [
      "conditional probability that P>12 given that it's P>6 when N=26 and M=2 :  0.42341\n"
     ]
    }
   ],
   "source": [
    "result= conditional_prob(26,2,6,12)\n",
    "print(\"conditional probability that P>12 given that it's P>6 when N=26 and M=2 : \",str(result))"
   ]
  },
  {
   "cell_type": "code",
   "execution_count": 4,
   "metadata": {},
   "outputs": [
    {
     "name": "stdout",
     "output_type": "stream",
     "text": [
      "conditional probability that P>12 given that it's P>6 when N=52 and M=4 :  0.43755\n"
     ]
    }
   ],
   "source": [
    "result = conditional_prob(52,4,6,12)\n",
    "print(\"conditional probability that P>12 given that it's P>6 when N=52 and M=4 : \",str(result))"
   ]
  },
  {
   "cell_type": "code",
   "execution_count": null,
   "metadata": {},
   "outputs": [],
   "source": []
  }
 ],
 "metadata": {
  "kernelspec": {
   "display_name": "Python 3",
   "language": "python",
   "name": "python3"
  },
  "language_info": {
   "codemirror_mode": {
    "name": "ipython",
    "version": 3
   },
   "file_extension": ".py",
   "mimetype": "text/x-python",
   "name": "python",
   "nbconvert_exporter": "python",
   "pygments_lexer": "ipython3",
   "version": "3.6.3"
  }
 },
 "nbformat": 4,
 "nbformat_minor": 2
}
