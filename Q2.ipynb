{
 "cells": [
  {
   "cell_type": "code",
   "execution_count": 1,
   "metadata": {},
   "outputs": [],
   "source": [
    "import pandas as pd\n",
    "import numpy as np"
   ]
  },
  {
   "cell_type": "code",
   "execution_count": 5,
   "metadata": {},
   "outputs": [
    {
     "name": "stderr",
     "output_type": "stream",
     "text": [
      "/Library/Frameworks/Python.framework/Versions/3.6/lib/python3.6/site-packages/IPython/core/interactiveshell.py:3020: DtypeWarning: Columns (25,27) have mixed types. Specify dtype option on import or set low_memory=False.\n",
      "  interactivity=interactivity, compiler=compiler, result=result)\n",
      "/Library/Frameworks/Python.framework/Versions/3.6/lib/python3.6/site-packages/IPython/core/interactiveshell.py:3020: DtypeWarning: Columns (19) have mixed types. Specify dtype option on import or set low_memory=False.\n",
      "  interactivity=interactivity, compiler=compiler, result=result)\n"
     ]
    }
   ],
   "source": [
    "MT_data = pd.read_csv(\"MT-clean.csv\")\n",
    "VT_data = pd.read_csv(\"VT-clean.csv\")"
   ]
  },
  {
   "cell_type": "markdown",
   "metadata": {},
   "source": [
    "Q1."
   ]
  },
  {
   "cell_type": "code",
   "execution_count": 13,
   "metadata": {},
   "outputs": [
    {
     "name": "stdout",
     "output_type": "stream",
     "text": [
      "Result for Q1 :  0.6749749732765495\n"
     ]
    }
   ],
   "source": [
    "Male_Stop = MT_data.driver_gender.value_counts()['M']/len(MT_data)\n",
    "print(\"Result for Q1 : \", str(Male_Stop))"
   ]
  },
  {
   "cell_type": "markdown",
   "metadata": {},
   "source": [
    "Q2."
   ]
  },
  {
   "cell_type": "code",
   "execution_count": 22,
   "metadata": {},
   "outputs": [
    {
     "name": "stderr",
     "output_type": "stream",
     "text": [
      "/Library/Frameworks/Python.framework/Versions/3.6/lib/python3.6/site-packages/ipykernel_launcher.py:2: UserWarning: Boolean Series key will be reindexed to match DataFrame index.\n",
      "  \n",
      "/Library/Frameworks/Python.framework/Versions/3.6/lib/python3.6/site-packages/ipykernel_launcher.py:7: UserWarning: Boolean Series key will be reindexed to match DataFrame index.\n",
      "  import sys\n"
     ]
    },
    {
     "name": "stdout",
     "output_type": "stream",
     "text": [
      "Result for Q2 : 0.04389566999319627\n"
     ]
    }
   ],
   "source": [
    "from scipy.stats import chisquare\n",
    "arrested_in_oos = len(MT_data[MT_data.out_of_state==True][MT_data.is_arrested==True])\n",
    "oos= len(MT_data[MT_data.out_of_state==True])\n",
    "\n",
    "ratio1 = arrested_in_oos/oos\n",
    "\n",
    "arrested_not_oos = len(MT_data[MT_data.out_of_state==False][MT_data.is_arrested==True])\n",
    "not_oos = len(MT_data[MT_data.out_of_state==False])\n",
    "\n",
    "ratio2 =  arrested_not_oos/not_oos\n",
    "\n",
    "factor = ratio1/ratio2\n",
    "\n",
    "print(\"Result for Q2 :\", str(chisquare(f_obs=[1, factor], f_exp=[1,1]).statistic))"
   ]
  },
  {
   "cell_type": "markdown",
   "metadata": {},
   "source": [
    "Q3."
   ]
  },
  {
   "cell_type": "code",
   "execution_count": 24,
   "metadata": {},
   "outputs": [
    {
     "name": "stdout",
     "output_type": "stream",
     "text": [
      "Result for Q3 : 0.6581580398644923\n"
     ]
    }
   ],
   "source": [
    "speed_viol = MT_data.violation.str.contains(\"Speeding\").sum()\n",
    "total=len(MT_data[MT_data.violation.notna()])\n",
    "print(\"Result for Q3 :\", str(speed_viol/total))"
   ]
  },
  {
   "cell_type": "markdown",
   "metadata": {},
   "source": [
    "Q4."
   ]
  },
  {
   "cell_type": "code",
   "execution_count": 27,
   "metadata": {},
   "outputs": [
    {
     "name": "stdout",
     "output_type": "stream",
     "text": [
      "Result for Q4 : 4.054943765214862\n"
     ]
    }
   ],
   "source": [
    "MT_DUI = MT_data.violation.str.contains(\"DUI\").sum() / len(MT_data[MT_data.violation.notna()])\n",
    "VT_DUI = VT_data.violation.str.contains(\"DUI\").sum() / len(VT_data[VT_data.violation.notna()])\n",
    "DUI_ratio = MT_DUI / VT_DUI\n",
    "print(\"Result for Q4 :\", str(DUI_ratio))"
   ]
  },
  {
   "cell_type": "markdown",
   "metadata": {},
   "source": [
    "Q5."
   ]
  },
  {
   "cell_type": "code",
   "execution_count": 77,
   "metadata": {},
   "outputs": [
    {
     "name": "stderr",
     "output_type": "stream",
     "text": [
      "/Library/Frameworks/Python.framework/Versions/3.6/lib/python3.6/site-packages/ipykernel_launcher.py:3: SettingWithCopyWarning: \n",
      "A value is trying to be set on a copy of a slice from a DataFrame.\n",
      "Try using .loc[row_indexer,col_indexer] = value instead\n",
      "\n",
      "See the caveats in the documentation: http://pandas.pydata.org/pandas-docs/stable/user_guide/indexing.html#returning-a-view-versus-a-copy\n",
      "  This is separate from the ipykernel package so we can avoid doing imports until\n"
     ]
    },
    {
     "name": "stdout",
     "output_type": "stream",
     "text": [
      "Result for Q5 :\n",
      "predicted average in 2020:  2008.8431659593393\n",
      "p-value :  5.609148253703464e-08\n"
     ]
    }
   ],
   "source": [
    "from scipy import stats\n",
    "data = MT_data[['stop_date', 'vehicle_year']]\n",
    "data['stop_date'] = pd.to_datetime(data['stop_date']).dt.year\n",
    "data = data[data['stop_date'].notna()]\n",
    "\n",
    "data['vehicle_year']= pd.to_numeric(data['vehicle_year'], errors='coerce')\n",
    "data = data[data['vehicle_year'].notna()]\n",
    "\n",
    "unq_years = data['stop_date'].unique()\n",
    "\n",
    "averages = [np.mean(data[data['stop_date']==year].vehicle_year.values) for year in unq_years]\n",
    "\n",
    "\n",
    "slope, intercept, r_value, p_value, std_err = stats.linregress(unq_years, averages)\n",
    "\n",
    "print(\"Result for Q5 :\")\n",
    "print(\"predicted average in 2020: \", str(slope*2020+intercept))\n",
    "print(\"p-value : \", str(p_value))"
   ]
  },
  {
   "cell_type": "markdown",
   "metadata": {},
   "source": [
    "Q6."
   ]
  },
  {
   "cell_type": "code",
   "execution_count": 86,
   "metadata": {},
   "outputs": [
    {
     "name": "stdout",
     "output_type": "stream",
     "text": [
      "Result for Q6 :\n",
      "difference in MT:  75478\n",
      "difference in VT:  26052\n"
     ]
    }
   ],
   "source": [
    "MT_stops = MT_data['stop_time'][MT_data['stop_time'].notna()].values\n",
    "MT_hours = np.array([int(ms[:2]) for ms in MT_stops])\n",
    "\n",
    "VT_stops = VT_data['stop_time'][VT_data['stop_time'].notna()].values\n",
    "VT_hours = np.array([int(vs[:2]) for vs in VT_stops])\n",
    "\n",
    "MT_hours, MT_num_stops = np.unique(MT_hours, return_counts=True)\n",
    "\n",
    "VT_hours, VT_num_stops = np.unique(VT_hours, return_counts=True)\n",
    "print(\"Result for Q6 :\")\n",
    "print(\"difference in MT: \", str(np.max(MT_num_stops)-np.min(MT_num_stops)))\n",
    "print(\"difference in VT: \", str(np.max(VT_num_stops)-np.min(VT_num_stops)))"
   ]
  },
  {
   "cell_type": "markdown",
   "metadata": {},
   "source": [
    "Q7."
   ]
  },
  {
   "cell_type": "code",
   "execution_count": 88,
   "metadata": {},
   "outputs": [
    {
     "name": "stdout",
     "output_type": "stream",
     "text": [
      "for Q7 :\n",
      "['Cascade County' 'Missoula County' 'Ravalli County' 'Yellowstone County'\n",
      " 'Gallatin County' 'Silver Bow County' 'Flathead County' 'Mineral County'\n",
      " 'Jefferson County' 'Rosebud County' 'Lake County' 'Stillwater County'\n",
      " 'Fergus County' 'Judith Basin County' 'Deer Lodge County' nan\n",
      " 'Custer County' 'Powell County' 'Roosevelt County' 'Daniels County'\n",
      " 'Park County' 'Sanders County' 'Hill County' 'Beaverhead County'\n",
      " 'Lincoln County' 'Lewis And Clark County' 'Glacier County'\n",
      " 'Carbon County' 'Madison County' 'Big Horn County' 'Broadwater County'\n",
      " 'Dawson County' 'Musselshell County' 'Richland County'\n",
      " 'Sweet Grass County' 'Prairie County' 'Golden Valley County'\n",
      " 'Powder River County' 'Granite County' 'Toole County' 'Blaine County'\n",
      " 'Valley County' 'Phillips County' 'Sheridan County' 'Petroleum County'\n",
      " 'Garfield County' 'Pondera County' 'Mccone County' 'Treasure County'\n",
      " 'Chouteau County' 'Liberty County' 'Teton County' 'Wheatland County'\n",
      " 'Wibaux County' 'Fallon County' 'Meagher County' 'Carter County']\n"
     ]
    }
   ],
   "source": [
    "print(\"for Q7 :\")\n",
    "county= MT_data[['county_name', 'vehicle_year']]\n",
    "unq_county= county['county_name'].unique()\n",
    "print(unq_county)"
   ]
  },
  {
   "cell_type": "code",
   "execution_count": 92,
   "metadata": {},
   "outputs": [
    {
     "data": {
      "text/plain": [
       "'1.3.0'"
      ]
     },
     "execution_count": 92,
     "metadata": {},
     "output_type": "execute_result"
    }
   ],
   "source": [
    "import scipy\n",
    "\n",
    "scipy.__version__"
   ]
  },
  {
   "cell_type": "code",
   "execution_count": null,
   "metadata": {},
   "outputs": [],
   "source": []
  }
 ],
 "metadata": {
  "kernelspec": {
   "display_name": "Python 3",
   "language": "python",
   "name": "python3"
  },
  "language_info": {
   "codemirror_mode": {
    "name": "ipython",
    "version": 3
   },
   "file_extension": ".py",
   "mimetype": "text/x-python",
   "name": "python",
   "nbconvert_exporter": "python",
   "pygments_lexer": "ipython3",
   "version": "3.6.3"
  }
 },
 "nbformat": 4,
 "nbformat_minor": 2
}
